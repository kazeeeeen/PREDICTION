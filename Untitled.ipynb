{
 "cells": [
  {
   "cell_type": "code",
   "execution_count": 2,
   "id": "bb51e8f5",
   "metadata": {},
   "outputs": [],
   "source": [
    "import pandas as pd\n",
    "import seaborn as sns\n",
    "import numpy as np\n",
    "import matplotlib.pyplot as plt\n",
    "from sklearn.model_selection import train_test_split\n",
    "from sklearn.linear_model import LinearRegression\n",
    "from sklearn import metrics"
   ]
  },
  {
   "cell_type": "code",
   "execution_count": 3,
   "id": "2640a9b1",
   "metadata": {},
   "outputs": [
    {
     "data": {
      "text/html": [
       "<div>\n",
       "<style scoped>\n",
       "    .dataframe tbody tr th:only-of-type {\n",
       "        vertical-align: middle;\n",
       "    }\n",
       "\n",
       "    .dataframe tbody tr th {\n",
       "        vertical-align: top;\n",
       "    }\n",
       "\n",
       "    .dataframe thead th {\n",
       "        text-align: right;\n",
       "    }\n",
       "</style>\n",
       "<table border=\"1\" class=\"dataframe\">\n",
       "  <thead>\n",
       "    <tr style=\"text-align: right;\">\n",
       "      <th></th>\n",
       "      <th>loc</th>\n",
       "      <th>cases</th>\n",
       "      <th>deaths</th>\n",
       "      <th>date</th>\n",
       "      <th>Region</th>\n",
       "    </tr>\n",
       "  </thead>\n",
       "  <tbody>\n",
       "    <tr>\n",
       "      <th>0</th>\n",
       "      <td>#adm2+name</td>\n",
       "      <td>#affected+infected</td>\n",
       "      <td>#affected+killed</td>\n",
       "      <td>#date</td>\n",
       "      <td>#region</td>\n",
       "    </tr>\n",
       "    <tr>\n",
       "      <th>1</th>\n",
       "      <td>ALBAY</td>\n",
       "      <td>15</td>\n",
       "      <td>0</td>\n",
       "      <td>1/10/2016</td>\n",
       "      <td>REGION V-BICOL REGION</td>\n",
       "    </tr>\n",
       "    <tr>\n",
       "      <th>2</th>\n",
       "      <td>ALBAY</td>\n",
       "      <td>13</td>\n",
       "      <td>0</td>\n",
       "      <td>1/17/2016</td>\n",
       "      <td>REGION V-BICOL REGION</td>\n",
       "    </tr>\n",
       "    <tr>\n",
       "      <th>3</th>\n",
       "      <td>ALBAY</td>\n",
       "      <td>9</td>\n",
       "      <td>0</td>\n",
       "      <td>1/24/2016</td>\n",
       "      <td>REGION V-BICOL REGION</td>\n",
       "    </tr>\n",
       "    <tr>\n",
       "      <th>4</th>\n",
       "      <td>ALBAY</td>\n",
       "      <td>14</td>\n",
       "      <td>0</td>\n",
       "      <td>1/31/2016</td>\n",
       "      <td>REGION V-BICOL REGION</td>\n",
       "    </tr>\n",
       "  </tbody>\n",
       "</table>\n",
       "</div>"
      ],
      "text/plain": [
       "          loc               cases            deaths       date  \\\n",
       "0  #adm2+name  #affected+infected  #affected+killed      #date   \n",
       "1       ALBAY                  15                 0  1/10/2016   \n",
       "2       ALBAY                  13                 0  1/17/2016   \n",
       "3       ALBAY                   9                 0  1/24/2016   \n",
       "4       ALBAY                  14                 0  1/31/2016   \n",
       "\n",
       "                  Region  \n",
       "0                #region  \n",
       "1  REGION V-BICOL REGION  \n",
       "2  REGION V-BICOL REGION  \n",
       "3  REGION V-BICOL REGION  \n",
       "4  REGION V-BICOL REGION  "
      ]
     },
     "execution_count": 3,
     "metadata": {},
     "output_type": "execute_result"
    }
   ],
   "source": [
    "data = pd.read_csv('C:/Users/cayen/Desktop/ITD112 Datasetes/dengue.csv')\n",
    "data.head()"
   ]
  },
  {
   "cell_type": "code",
   "execution_count": null,
   "id": "030e07d4",
   "metadata": {},
   "outputs": [],
   "source": []
  }
 ],
 "metadata": {
  "kernelspec": {
   "display_name": "Python 3 (ipykernel)",
   "language": "python",
   "name": "python3"
  },
  "language_info": {
   "codemirror_mode": {
    "name": "ipython",
    "version": 3
   },
   "file_extension": ".py",
   "mimetype": "text/x-python",
   "name": "python",
   "nbconvert_exporter": "python",
   "pygments_lexer": "ipython3",
   "version": "3.9.13"
  }
 },
 "nbformat": 4,
 "nbformat_minor": 5
}
